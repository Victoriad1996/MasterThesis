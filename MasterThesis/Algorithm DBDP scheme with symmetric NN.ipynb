{
 "cells": [
  {
   "cell_type": "code",
   "execution_count": 1,
   "id": "b3bc8669",
   "metadata": {},
   "outputs": [],
   "source": [
    "import torch\n",
    "import torch.nn as nn\n",
    "import torch.nn.functional as F\n",
    "import torch.optim as optim\n",
    "\n",
    "import numpy as np\n",
    "import pandas as pd\n",
    "import matplotlib.pyplot as plt\n",
    "\n",
    "import utils\n",
    "\n",
    "import NetModules\n",
    "\n",
    "%load_ext autoreload\n",
    "\n",
    "%autoreload 2"
   ]
  },
  {
   "cell_type": "code",
   "execution_count": 2,
   "id": "66aaaa21",
   "metadata": {},
   "outputs": [],
   "source": [
    "T = 1.\n",
    "N =  1\n",
    "delta_t = 0.1\n",
    "X0 = torch.ones(N).view(-1,1)\n",
    "X = X0"
   ]
  },
  {
   "cell_type": "code",
   "execution_count": 3,
   "id": "366933bd",
   "metadata": {},
   "outputs": [],
   "source": [
    "def v(t, x):\n",
    "    x_bar = torch.mean(x)\n",
    "    return torch.cos(x_bar) * torch.exp(torch.tensor((T-t)/2))"
   ]
  },
  {
   "cell_type": "code",
   "execution_count": 4,
   "id": "772f8445",
   "metadata": {},
   "outputs": [
    {
     "data": {
      "text/plain": [
       "[<matplotlib.lines.Line2D at 0x7f8fb361a940>]"
      ]
     },
     "execution_count": 4,
     "metadata": {},
     "output_type": "execute_result"
    },
    {
     "data": {
      "image/png": "[encoded data removed]",
      "text/plain": [
       "<Figure size 432x288 with 1 Axes>"
      ]
     },
     "metadata": {
      "needs_background": "light"
     },
     "output_type": "display_data"
    }
   ],
   "source": [
    "t = np.linspace(0, 1, 100)\n",
    "plt.plot([v(t_, X) for t_ in t])"
   ]
  },
  {
   "cell_type": "code",
   "execution_count": 5,
   "id": "6486cf8e",
   "metadata": {},
   "outputs": [],
   "source": [
    "def b(i, t, Xt):\n",
    "    Bi = (t * i / 100 ) * torch.ones((Xt.shape[1], Xt.shape[0]))\n",
    "    return torch.matmul(Bi, Xt)"
   ]
  },
  {
   "cell_type": "code",
   "execution_count": 6,
   "id": "591c0fb0",
   "metadata": {},
   "outputs": [],
   "source": [
    "def sigma(i, j, t, Xt):\n",
    "    sigma_ij = (t * i * j / 1000 ) * torch.ones((Xt.shape[1], Xt.shape[0]))\n",
    "    return torch.matmul(sigma_ij, Xt)"
   ]
  },
  {
   "cell_type": "code",
   "execution_count": 7,
   "id": "7a8b7188",
   "metadata": {},
   "outputs": [],
   "source": [
    "result = torch.zeros((N, int(T/delta_t)))"
   ]
  },
  {
   "cell_type": "code",
   "execution_count": 9,
   "id": "8a72b13c",
   "metadata": {},
   "outputs": [],
   "source": [
    "def simulate_right(X0, d, delta_t=0.1):\n",
    "    result = torch.zeros((d, int(T/delta_t)))\n",
    "    for dim in range(d):\n",
    "        X0 = X0.view(-1)\n",
    "        X = X0[dim].view(-1,1)\n",
    "        for i in range(int(T/delta_t)-1):\n",
    "            Xk = X[-1].view(-1,1)\n",
    "            t = delta_t * i\n",
    "            delta_W = torch.normal(torch.zeros(1), delta_t * torch.ones(1))\n",
    "            X_kp1 = Xk + delta_t * b(1, t, Xk) + v(t, Xk)*delta_W\n",
    "            X = torch.cat([X, X_kp1])\n",
    "        result[dim,:] = X.view(-1)\n",
    "    return result"
   ]
  },
  {
   "cell_type": "code",
   "execution_count": 10,
   "id": "3131eadf",
   "metadata": {},
   "outputs": [],
   "source": [
    "def simulate_left(X_T, d, delta_t=0.1):\n",
    "    result = torch.zeros((d, int(T/delta_t)))\n",
    "    for dim in range(d):\n",
    "        print(dim)\n",
    "        X_T = X_T.view(-1)\n",
    "        X = X_T[dim].view(-1,1)\n",
    "        for i in reversed(range(int(T/delta_t)-1)):\n",
    "            Xkp1 = X[-1].view(-1,1)\n",
    "            t = delta_t * i\n",
    "            delta_W = torch.normal(torch.zeros(1), delta_t * torch.ones(1))\n",
    "            X_k = Xkp1 - delta_t * b(1, t, Xkp1) - v(t, Xkp1) * delta_W\n",
    "            X = torch.cat([X_k, X])\n",
    "        result[dim,:] = X.view(-1)\n",
    "    return result"
   ]
  },
  {
   "cell_type": "code",
   "execution_count": 11,
   "id": "474d5bfe",
   "metadata": {},
   "outputs": [
    {
     "name": "stdout",
     "output_type": "stream",
     "text": [
      "0\n",
      "1\n",
      "2\n",
      "3\n",
      "4\n",
      "torch.Size([5, 10])\n"
     ]
    }
   ],
   "source": [
    "d = 5\n",
    "Z0 = torch.zeros(d)\n",
    "Z = simulate_left(Z0, d)\n",
    "\n",
    "print(Z.shape)"
   ]
  },
  {
   "cell_type": "code",
   "execution_count": 13,
   "id": "b8047042",
   "metadata": {},
   "outputs": [
    {
     "name": "stdout",
     "output_type": "stream",
     "text": [
      "0\n",
      "1\n",
      "2\n",
      "3\n",
      "4\n",
      "5\n",
      "6\n",
      "7\n",
      "8\n",
      "9\n"
     ]
    }
   ],
   "source": [
    "N = 10\n",
    "X_T = torch.zeros(N)\n",
    "X = simulate_left(X_T, N)\n",
    "\n",
    "Z0 = torch.zeros(N)\n",
    "Z = simulate_right(Z0, N)"
   ]
  },
  {
   "cell_type": "code",
   "execution_count": 14,
   "id": "b8e2391a",
   "metadata": {
    "scrolled": true
   },
   "outputs": [
    {
     "name": "stdout",
     "output_type": "stream",
     "text": [
      "0\n",
      "1\n"
     ]
    },
    {
     "data": {
      "text/plain": [
       "[<matplotlib.lines.Line2D at 0x7f8fa01532b0>]"
      ]
     },
     "execution_count": 14,
     "metadata": {},
     "output_type": "execute_result"
    },
    {
     "data": {
      "image/png": "[encoded data removed]",
      "text/plain": [
       "<Figure size 432x288 with 1 Axes>"
      ]
     },
     "metadata": {
      "needs_background": "light"
     },
     "output_type": "display_data"
    }
   ],
   "source": [
    "X = simulate_left(X_T, 2)\n",
    "plt.plot(X[0,:])\n",
    "plt.plot(X[1,:])"
   ]
  },
  {
   "cell_type": "markdown",
   "id": "0c819de6",
   "metadata": {},
   "source": [
    "Need to estimate:\n",
    "- Z\n",
    "- start with initial U\n",
    "- Try with a lot of data?"
   ]
  },
  {
   "cell_type": "code",
   "execution_count": 17,
   "id": "c977d8ac",
   "metadata": {},
   "outputs": [
    {
     "data": {
      "text/plain": [
       "torch.Size([2, 10])"
      ]
     },
     "execution_count": 17,
     "metadata": {},
     "output_type": "execute_result"
    }
   ],
   "source": [
    "X.shape"
   ]
  },
  {
   "cell_type": "code",
   "execution_count": 15,
   "id": "3c470758",
   "metadata": {},
   "outputs": [],
   "source": [
    "def fun(x, y, z, t):\n",
    "    delta_t = torch.tensor((T - t)/2)\n",
    "    x_bar = torch.mean(x)\n",
    "    r1 = (torch.cos(x_bar) + 0.2 * torch.sin(x_bar)) * torch.exp(delta_t)\n",
    "    r2 = (1/2) * (torch.sin(x_bar) * torch.cos(x_bar) * torch.exp(delta_t)) ** 2\n",
    "    one = torch.ones(N)\n",
    "    print(\"one.shape \", one.shape)\n",
    "    print(\"z.shape \", z.shape)\n",
    "    print(\"torch.matmul(one, z) \", torch.matmul(one, z))\n",
    "    r3 = (1/(2*N)) * (y(torch.matmul(one, z).view(-1)))**2\n",
    "\n",
    "    return r1.view(-1) + r2.view(-1) + r3.view(-1)\n",
    "    #return torch.tensor(1).view(-1)"
   ]
  },
  {
   "cell_type": "code",
   "execution_count": 20,
   "id": "5f637b0b",
   "metadata": {},
   "outputs": [
    {
     "data": {
      "text/plain": [
       "torch.Size([2])"
      ]
     },
     "execution_count": 20,
     "metadata": {},
     "output_type": "execute_result"
    }
   ],
   "source": [
    "X[:, 0].shape"
   ]
  },
  {
   "cell_type": "code",
   "execution_count": 21,
   "id": "bddfc343",
   "metadata": {},
   "outputs": [
    {
     "data": {
      "text/plain": [
       "DeepSet(\n",
       "  (fc1): Linear(in_features=1, out_features=64, bias=True)\n",
       "  (fc2): Linear(in_features=64, out_features=64, bias=True)\n",
       "  (fc3): Linear(in_features=64, out_features=64, bias=True)\n",
       "  (fc4): Linear(in_features=64, out_features=128, bias=True)\n",
       "  (fc5): Linear(in_features=128, out_features=1024, bias=True)\n",
       "  (psi1): Linear(in_features=1024, out_features=512, bias=True)\n",
       "  (psi2): Linear(in_features=512, out_features=256, bias=True)\n",
       "  (psi3): Linear(in_features=256, out_features=1, bias=True)\n",
       ")"
      ]
     },
     "execution_count": 21,
     "metadata": {},
     "output_type": "execute_result"
    }
   ],
   "source": [
    "net_vector"
   ]
  },
  {
   "cell_type": "code",
   "execution_count": 30,
   "id": "4b9f5c38",
   "metadata": {},
   "outputs": [
    {
     "data": {
      "text/plain": [
       "torch.Size([10])"
      ]
     },
     "execution_count": 30,
     "metadata": {},
     "output_type": "execute_result"
    }
   ],
   "source": [
    "Z[:, 0].shape"
   ]
  },
  {
   "cell_type": "code",
   "execution_count": 34,
   "id": "99e5fbb2",
   "metadata": {},
   "outputs": [
    {
     "data": {
      "text/plain": [
       "10"
      ]
     },
     "execution_count": 34,
     "metadata": {},
     "output_type": "execute_result"
    }
   ],
   "source": [
    "N"
   ]
  },
  {
   "cell_type": "code",
   "execution_count": 36,
   "id": "e1bc738a",
   "metadata": {},
   "outputs": [],
   "source": [
    "sigma_mat = torch.ones((N, N))"
   ]
  },
  {
   "cell_type": "code",
   "execution_count": 37,
   "id": "6a4488c2",
   "metadata": {},
   "outputs": [
    {
     "data": {
      "text/plain": [
       "tensor([[1., 1., 1., 1., 1., 1., 1., 1., 1., 1.],\n",
       "        [1., 1., 1., 1., 1., 1., 1., 1., 1., 1.],\n",
       "        [1., 1., 1., 1., 1., 1., 1., 1., 1., 1.],\n",
       "        [1., 1., 1., 1., 1., 1., 1., 1., 1., 1.],\n",
       "        [1., 1., 1., 1., 1., 1., 1., 1., 1., 1.],\n",
       "        [1., 1., 1., 1., 1., 1., 1., 1., 1., 1.],\n",
       "        [1., 1., 1., 1., 1., 1., 1., 1., 1., 1.],\n",
       "        [1., 1., 1., 1., 1., 1., 1., 1., 1., 1.],\n",
       "        [1., 1., 1., 1., 1., 1., 1., 1., 1., 1.],\n",
       "        [1., 1., 1., 1., 1., 1., 1., 1., 1., 1.]])"
      ]
     },
     "execution_count": 37,
     "metadata": {},
     "output_type": "execute_result"
    }
   ],
   "source": [
    "sigma_mat"
   ]
  },
  {
   "cell_type": "code",
   "execution_count": 39,
   "id": "22e25b78",
   "metadata": {
    "scrolled": false
   },
   "outputs": [
    {
     "name": "stdout",
     "output_type": "stream",
     "text": [
      "X[:,i].shape\n",
      "torch.Size([2])\n",
      "10\n",
      "y.shape\n",
      "torch.Size([1024])\n",
      "x.shape\n",
      "torch.Size([10])\n",
      "z.shape\n",
      "torch.Size([1034])\n",
      "V.shape  torch.Size([10])\n",
      "one.shape  torch.Size([10])\n",
      "z.shape  torch.Size([10])\n",
      "torch.matmul(one, z)  tensor(0.5446, grad_fn=<DotBackward>)\n"
     ]
    },
    {
     "ename": "IndexError",
     "evalue": "index 1 is out of bounds for dimension 0 with size 1",
     "output_type": "error",
     "traceback": [
      "\u001b[0;31m---------------------------------------------------------------------------\u001b[0m",
      "\u001b[0;31mIndexError\u001b[0m                                Traceback (most recent call last)",
      "\u001b[0;32m<ipython-input-39-9f47792f5dfe>\u001b[0m in \u001b[0;36m<module>\u001b[0;34m\u001b[0m\n\u001b[1;32m     17\u001b[0m     \u001b[0mV\u001b[0m \u001b[0;34m=\u001b[0m \u001b[0mnet_matrix\u001b[0m\u001b[0;34m(\u001b[0m\u001b[0mZ\u001b[0m\u001b[0;34m[\u001b[0m\u001b[0;34m:\u001b[0m\u001b[0;34m,\u001b[0m\u001b[0mi\u001b[0m\u001b[0;34m]\u001b[0m\u001b[0;34m)\u001b[0m\u001b[0;34m\u001b[0m\u001b[0;34m\u001b[0m\u001b[0m\n\u001b[1;32m     18\u001b[0m     \u001b[0mprint\u001b[0m\u001b[0;34m(\u001b[0m\u001b[0;34m\"V.shape \"\u001b[0m\u001b[0;34m,\u001b[0m \u001b[0mV\u001b[0m\u001b[0;34m.\u001b[0m\u001b[0mshape\u001b[0m\u001b[0;34m)\u001b[0m\u001b[0;34m\u001b[0m\u001b[0;34m\u001b[0m\u001b[0m\n\u001b[0;32m---> 19\u001b[0;31m     \u001b[0mf\u001b[0m \u001b[0;34m=\u001b[0m \u001b[0mfun\u001b[0m\u001b[0;34m(\u001b[0m\u001b[0mX\u001b[0m\u001b[0;34m[\u001b[0m\u001b[0;34m:\u001b[0m\u001b[0;34m,\u001b[0m\u001b[0mi\u001b[0m\u001b[0;34m]\u001b[0m\u001b[0;34m,\u001b[0m \u001b[0mnet_vector\u001b[0m\u001b[0;34m,\u001b[0m \u001b[0mtorch\u001b[0m\u001b[0;34m.\u001b[0m\u001b[0mmatmul\u001b[0m\u001b[0;34m(\u001b[0m\u001b[0msigma_mat\u001b[0m\u001b[0;34m,\u001b[0m \u001b[0mV\u001b[0m\u001b[0;34m)\u001b[0m\u001b[0;34m,\u001b[0m \u001b[0mi\u001b[0m \u001b[0;34m*\u001b[0m \u001b[0mdelta_t\u001b[0m\u001b[0;34m)\u001b[0m\u001b[0;34m\u001b[0m\u001b[0;34m\u001b[0m\u001b[0m\n\u001b[0m\u001b[1;32m     20\u001b[0m     \u001b[0mdelta_W\u001b[0m \u001b[0;34m=\u001b[0m \u001b[0mtorch\u001b[0m\u001b[0;34m.\u001b[0m\u001b[0mnormal\u001b[0m\u001b[0;34m(\u001b[0m\u001b[0mtorch\u001b[0m\u001b[0;34m.\u001b[0m\u001b[0mzeros\u001b[0m\u001b[0;34m(\u001b[0m\u001b[0;36m1\u001b[0m\u001b[0;34m)\u001b[0m\u001b[0;34m,\u001b[0m \u001b[0mdelta_t\u001b[0m \u001b[0;34m*\u001b[0m \u001b[0mtorch\u001b[0m\u001b[0;34m.\u001b[0m\u001b[0mones\u001b[0m\u001b[0;34m(\u001b[0m\u001b[0;36m1\u001b[0m\u001b[0;34m)\u001b[0m\u001b[0;34m)\u001b[0m\u001b[0;34m\u001b[0m\u001b[0;34m\u001b[0m\u001b[0m\n\u001b[1;32m     21\u001b[0m     \u001b[0mloss\u001b[0m \u001b[0;34m=\u001b[0m \u001b[0;34m(\u001b[0m\u001b[0mU\u001b[0m \u001b[0;34m-\u001b[0m \u001b[0;34m(\u001b[0m\u001b[0mU_\u001b[0m \u001b[0;34m+\u001b[0m \u001b[0mf\u001b[0m \u001b[0;34m*\u001b[0m \u001b[0mdelta_t\u001b[0m\u001b[0;34m)\u001b[0m\u001b[0;34m.\u001b[0m\u001b[0mdetach\u001b[0m\u001b[0;34m(\u001b[0m\u001b[0;34m)\u001b[0m \u001b[0;34m-\u001b[0m \u001b[0mV\u001b[0m \u001b[0;34m*\u001b[0m \u001b[0mdelta_W\u001b[0m\u001b[0;34m.\u001b[0m\u001b[0mdetach\u001b[0m\u001b[0;34m(\u001b[0m\u001b[0;34m)\u001b[0m\u001b[0;34m)\u001b[0m\u001b[0;34m**\u001b[0m\u001b[0;36m2\u001b[0m\u001b[0;34m\u001b[0m\u001b[0;34m\u001b[0m\u001b[0m\n",
      "\u001b[0;32m<ipython-input-15-40e25cb5fc50>\u001b[0m in \u001b[0;36mfun\u001b[0;34m(x, y, z, t)\u001b[0m\n\u001b[1;32m      8\u001b[0m     \u001b[0mprint\u001b[0m\u001b[0;34m(\u001b[0m\u001b[0;34m\"z.shape \"\u001b[0m\u001b[0;34m,\u001b[0m \u001b[0mz\u001b[0m\u001b[0;34m.\u001b[0m\u001b[0mshape\u001b[0m\u001b[0;34m)\u001b[0m\u001b[0;34m\u001b[0m\u001b[0;34m\u001b[0m\u001b[0m\n\u001b[1;32m      9\u001b[0m     \u001b[0mprint\u001b[0m\u001b[0;34m(\u001b[0m\u001b[0;34m\"torch.matmul(one, z) \"\u001b[0m\u001b[0;34m,\u001b[0m \u001b[0mtorch\u001b[0m\u001b[0;34m.\u001b[0m\u001b[0mmatmul\u001b[0m\u001b[0;34m(\u001b[0m\u001b[0mone\u001b[0m\u001b[0;34m,\u001b[0m \u001b[0mz\u001b[0m\u001b[0;34m)\u001b[0m\u001b[0;34m)\u001b[0m\u001b[0;34m\u001b[0m\u001b[0;34m\u001b[0m\u001b[0m\n\u001b[0;32m---> 10\u001b[0;31m     \u001b[0mr3\u001b[0m \u001b[0;34m=\u001b[0m \u001b[0;34m(\u001b[0m\u001b[0;36m1\u001b[0m\u001b[0;34m/\u001b[0m\u001b[0;34m(\u001b[0m\u001b[0;36m2\u001b[0m\u001b[0;34m*\u001b[0m\u001b[0mN\u001b[0m\u001b[0;34m)\u001b[0m\u001b[0;34m)\u001b[0m \u001b[0;34m*\u001b[0m \u001b[0;34m(\u001b[0m\u001b[0my\u001b[0m\u001b[0;34m(\u001b[0m\u001b[0mtorch\u001b[0m\u001b[0;34m.\u001b[0m\u001b[0mmatmul\u001b[0m\u001b[0;34m(\u001b[0m\u001b[0mone\u001b[0m\u001b[0;34m,\u001b[0m \u001b[0mz\u001b[0m\u001b[0;34m)\u001b[0m\u001b[0;34m.\u001b[0m\u001b[0mview\u001b[0m\u001b[0;34m(\u001b[0m\u001b[0;34m-\u001b[0m\u001b[0;36m1\u001b[0m\u001b[0;34m)\u001b[0m\u001b[0;34m)\u001b[0m\u001b[0;34m)\u001b[0m\u001b[0;34m**\u001b[0m\u001b[0;36m2\u001b[0m\u001b[0;34m\u001b[0m\u001b[0;34m\u001b[0m\u001b[0m\n\u001b[0m\u001b[1;32m     11\u001b[0m \u001b[0;34m\u001b[0m\u001b[0m\n\u001b[1;32m     12\u001b[0m     \u001b[0;32mreturn\u001b[0m \u001b[0mr1\u001b[0m\u001b[0;34m.\u001b[0m\u001b[0mview\u001b[0m\u001b[0;34m(\u001b[0m\u001b[0;34m-\u001b[0m\u001b[0;36m1\u001b[0m\u001b[0;34m)\u001b[0m \u001b[0;34m+\u001b[0m \u001b[0mr2\u001b[0m\u001b[0;34m.\u001b[0m\u001b[0mview\u001b[0m\u001b[0;34m(\u001b[0m\u001b[0;34m-\u001b[0m\u001b[0;36m1\u001b[0m\u001b[0;34m)\u001b[0m \u001b[0;34m+\u001b[0m \u001b[0mr3\u001b[0m\u001b[0;34m.\u001b[0m\u001b[0mview\u001b[0m\u001b[0;34m(\u001b[0m\u001b[0;34m-\u001b[0m\u001b[0;36m1\u001b[0m\u001b[0;34m)\u001b[0m\u001b[0;34m\u001b[0m\u001b[0;34m\u001b[0m\u001b[0m\n",
      "\u001b[0;32m~/env/lib/python3.8/site-packages/torch/nn/modules/module.py\u001b[0m in \u001b[0;36m_call_impl\u001b[0;34m(self, *input, **kwargs)\u001b[0m\n\u001b[1;32m    887\u001b[0m             \u001b[0mresult\u001b[0m \u001b[0;34m=\u001b[0m \u001b[0mself\u001b[0m\u001b[0;34m.\u001b[0m\u001b[0m_slow_forward\u001b[0m\u001b[0;34m(\u001b[0m\u001b[0;34m*\u001b[0m\u001b[0minput\u001b[0m\u001b[0;34m,\u001b[0m \u001b[0;34m**\u001b[0m\u001b[0mkwargs\u001b[0m\u001b[0;34m)\u001b[0m\u001b[0;34m\u001b[0m\u001b[0;34m\u001b[0m\u001b[0m\n\u001b[1;32m    888\u001b[0m         \u001b[0;32melse\u001b[0m\u001b[0;34m:\u001b[0m\u001b[0;34m\u001b[0m\u001b[0;34m\u001b[0m\u001b[0m\n\u001b[0;32m--> 889\u001b[0;31m             \u001b[0mresult\u001b[0m \u001b[0;34m=\u001b[0m \u001b[0mself\u001b[0m\u001b[0;34m.\u001b[0m\u001b[0mforward\u001b[0m\u001b[0;34m(\u001b[0m\u001b[0;34m*\u001b[0m\u001b[0minput\u001b[0m\u001b[0;34m,\u001b[0m \u001b[0;34m**\u001b[0m\u001b[0mkwargs\u001b[0m\u001b[0;34m)\u001b[0m\u001b[0;34m\u001b[0m\u001b[0;34m\u001b[0m\u001b[0m\n\u001b[0m\u001b[1;32m    890\u001b[0m         for hook in itertools.chain(\n\u001b[1;32m    891\u001b[0m                 \u001b[0m_global_forward_hooks\u001b[0m\u001b[0;34m.\u001b[0m\u001b[0mvalues\u001b[0m\u001b[0;34m(\u001b[0m\u001b[0;34m)\u001b[0m\u001b[0;34m,\u001b[0m\u001b[0;34m\u001b[0m\u001b[0;34m\u001b[0m\u001b[0m\n",
      "\u001b[0;32m~/Code/MasterThesis/NetModules.py\u001b[0m in \u001b[0;36mforward\u001b[0;34m(self, x)\u001b[0m\n\u001b[1;32m     67\u001b[0m         \u001b[0my\u001b[0m \u001b[0;34m=\u001b[0m \u001b[0mtorch\u001b[0m\u001b[0;34m.\u001b[0m\u001b[0mzeros\u001b[0m\u001b[0;34m(\u001b[0m\u001b[0mN\u001b[0m\u001b[0;34m,\u001b[0m \u001b[0;36m1024\u001b[0m\u001b[0;34m)\u001b[0m\u001b[0;34m\u001b[0m\u001b[0;34m\u001b[0m\u001b[0m\n\u001b[1;32m     68\u001b[0m         \u001b[0;32mfor\u001b[0m \u001b[0mi\u001b[0m \u001b[0;32min\u001b[0m \u001b[0mrange\u001b[0m\u001b[0;34m(\u001b[0m\u001b[0mN\u001b[0m\u001b[0;34m)\u001b[0m\u001b[0;34m:\u001b[0m\u001b[0;34m\u001b[0m\u001b[0;34m\u001b[0m\u001b[0m\n\u001b[0;32m---> 69\u001b[0;31m             \u001b[0my\u001b[0m\u001b[0;34m[\u001b[0m\u001b[0mi\u001b[0m\u001b[0;34m]\u001b[0m \u001b[0;34m=\u001b[0m \u001b[0mself\u001b[0m\u001b[0;34m.\u001b[0m\u001b[0mphi\u001b[0m\u001b[0;34m(\u001b[0m\u001b[0mx\u001b[0m\u001b[0;34m[\u001b[0m\u001b[0mi\u001b[0m\u001b[0;34m]\u001b[0m\u001b[0;34m.\u001b[0m\u001b[0mview\u001b[0m\u001b[0;34m(\u001b[0m\u001b[0;34m-\u001b[0m\u001b[0;36m1\u001b[0m\u001b[0;34m)\u001b[0m\u001b[0;34m)\u001b[0m\u001b[0;34m\u001b[0m\u001b[0;34m\u001b[0m\u001b[0m\n\u001b[0m\u001b[1;32m     70\u001b[0m         \u001b[0my\u001b[0m \u001b[0;34m=\u001b[0m \u001b[0mtorch\u001b[0m\u001b[0;34m.\u001b[0m\u001b[0msum\u001b[0m\u001b[0;34m(\u001b[0m\u001b[0my\u001b[0m\u001b[0;34m,\u001b[0m \u001b[0;36m0\u001b[0m\u001b[0;34m)\u001b[0m \u001b[0;34m/\u001b[0m \u001b[0mN\u001b[0m\u001b[0;34m\u001b[0m\u001b[0;34m\u001b[0m\u001b[0m\n\u001b[1;32m     71\u001b[0m \u001b[0;34m\u001b[0m\u001b[0m\n",
      "\u001b[0;31mIndexError\u001b[0m: index 1 is out of bounds for dimension 0 with size 1"
     ]
    }
   ],
   "source": [
    "d = 2\n",
    "torch.autograd.set_detect_anomaly(True)\n",
    "criterion = nn.MSELoss()\n",
    "delta_t = 0.1\n",
    "EPOCHS = 5\n",
    "U_ = v(0, torch.ones(N))\n",
    "for i in range(int(T/delta_t)-1):\n",
    "    net_vector = NetModules.DeepSet(d).float()\n",
    "    net_matrix = NetModules.DeepDerSet(N).float()\n",
    "    optimizer = optim.Adam(net_vector.parameters(), lr=0.01)\n",
    "    optimizer.add_param_group({'params':net_matrix.parameters()})\n",
    "    #for X, Z in zip(train_data, test_data):\n",
    "    print(\"X[:,i].shape\")\n",
    "    print(X[:,i].shape)\n",
    "    U = net_vector(X[:,i])\n",
    "\n",
    "    V = net_matrix(Z[:,i])\n",
    "    print(\"V.shape \", V.shape)\n",
    "    f = fun(X[:,i], net_vector, torch.matmul(sigma_mat, V), i * delta_t)\n",
    "    delta_W = torch.normal(torch.zeros(1), delta_t * torch.ones(1))\n",
    "    loss = (U - (U_ + f * delta_t).detach() - V * delta_W.detach())**2\n",
    "    print(\"loss : \",loss)\n",
    "\n",
    "    loss.backward(retain_graph=True)\n",
    "    optimizer.step()\n",
    "\n",
    "    net_vector.zero_grad()\n",
    "    net_matrix.zero_grad()\n",
    "    U_ = U"
   ]
  },
  {
   "cell_type": "code",
   "execution_count": null,
   "id": "fb34509f",
   "metadata": {},
   "outputs": [],
   "source": [
    "batches = 10\n",
    "net1 = DeepDerSet(N).float()\n",
    "net2 = DeepSet(N).float()\n",
    "optimizer = optim.Adam(net.parameters(), lr=0.01) # Corresponds to evything that is adjustable\n",
    "criterion = nn.MSELoss()\n",
    "EPOCHS = 100\n",
    "outputs_epoch = []\n",
    "\n",
    "losses_epoch = []\n",
    "for epoch in range(EPOCHS):\n",
    "    loss_batch = []\n",
    "    for i in range(batches):\n",
    "        net.zero_grad()\n",
    "        k = int(n_data /batches)\n",
    "        dataX = X[i:i+k,:]\n",
    "        dataY = synth[i:i+k,:]\n",
    "        tot_loss = 0\n",
    "        net.zero_grad()\n",
    "        for j , (x, Y) in enumerate(zip(dataX, dataY)):\n",
    "            output = net(X)\n",
    "            loss = criterion(output, Y)\n",
    "            tot_loss += loss\n",
    "            loss_batch.append(loss)\n",
    "        tot_loss.backward() # Backpropagate the loss\n",
    "        optimizer.step() # Adjusts the steps\n",
    "    losses_epoch.append(loss_batch)\n",
    "    print('LOSS = ', tot_loss)\n",
    "    if test_convergence(losses_epoch, 0.5):\n",
    "        break"
   ]
  }
 ],
 "metadata": {
  "kernelspec": {
   "display_name": "env",
   "language": "python",
   "name": "env"
  },
  "language_info": {
   "codemirror_mode": {
    "name": "ipython",
    "version": 3
   },
   "file_extension": ".py",
   "mimetype": "text/x-python",
   "name": "python",
   "nbconvert_exporter": "python",
   "pygments_lexer": "ipython3",
   "version": "3.8.0"
  }
 },
 "nbformat": 4,
 "nbformat_minor": 5
}
